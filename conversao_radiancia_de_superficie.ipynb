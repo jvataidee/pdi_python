{
  "nbformat": 4,
  "nbformat_minor": 0,
  "metadata": {
    "colab": {
      "provenance": [],
      "mount_file_id": "10izzj8S5hJdbQvNanKAW29Iswlub3jpB",
      "authorship_tag": "ABX9TyPhfkjzZGWJaUUiaNclQDOE",
      "include_colab_link": true
    },
    "kernelspec": {
      "name": "python3",
      "display_name": "Python 3"
    },
    "language_info": {
      "name": "python"
    }
  },
  "cells": [
    {
      "cell_type": "markdown",
      "metadata": {
        "id": "view-in-github",
        "colab_type": "text"
      },
      "source": [
        "<a href=\"https://colab.research.google.com/github/jvataidee/pdi_python/blob/main/conversao_radiancia_de_superficie.ipynb\" target=\"_parent\"><img src=\"https://colab.research.google.com/assets/colab-badge.svg\" alt=\"Open In Colab\"/></a>"
      ]
    },
    {
      "cell_type": "markdown",
      "source": [
        "# **Conversão de Radiância para Reflectância de Superfície**"
      ],
      "metadata": {
        "id": "D3vhnqA2_IB2"
      }
    },
    {
      "cell_type": "markdown",
      "source": [
        "## **Criando ambiente para PDI com Python**"
      ],
      "metadata": {
        "id": "kVrywLBgzP20"
      }
    },
    {
      "cell_type": "markdown",
      "source": [
        "### Instalando Miniconda\n",
        "[MINICONDA](https://docs.conda.io/en/latest/miniconda.html)"
      ],
      "metadata": {
        "id": "n0qsKQJgypHi"
      }
    },
    {
      "cell_type": "code",
      "execution_count": null,
      "metadata": {
        "id": "BctTBRGcydek"
      },
      "outputs": [],
      "source": [
        "! wget https://repo.anaconda.com/miniconda/Miniconda3-py37_4.8.2-Linux-x86_64.sh\n",
        "! chmod +x Miniconda3-py37_4.8.2-Linux-x86_64.sh\n",
        "! bash ./Miniconda3-py37_4.8.2-Linux-x86_64.sh -b -f -p /usr/local"
      ]
    },
    {
      "cell_type": "markdown",
      "source": [
        "### Definir ambiente"
      ],
      "metadata": {
        "id": "X-cU6ONoyzOh"
      }
    },
    {
      "cell_type": "code",
      "source": [
        "import sys\n",
        "sys.path.append('/usr/local/lib/python3.7/site-packages/')"
      ],
      "metadata": {
        "id": "Mup4yMCdysvO"
      },
      "execution_count": 2,
      "outputs": []
    },
    {
      "cell_type": "markdown",
      "source": [
        "### Testando comando conda\n",
        "[CONDA](https://docs.conda.io/en/latest/)"
      ],
      "metadata": {
        "id": "wCNbmjK6y12I"
      }
    },
    {
      "cell_type": "code",
      "source": [
        "!conda"
      ],
      "metadata": {
        "id": "caP9Bsp-yxzC"
      },
      "execution_count": null,
      "outputs": []
    },
    {
      "cell_type": "markdown",
      "source": [
        "### Instalando biblioteca rsgslib\n",
        "[RSGISLIB](https://github.com/remotesensinginfo/rsgislib)"
      ],
      "metadata": {
        "id": "cG0qbJUey6UP"
      }
    },
    {
      "cell_type": "code",
      "source": [
        "!conda install -c conda-forge rsgislib -y"
      ],
      "metadata": {
        "id": "VeLidg8Ly97G"
      },
      "execution_count": null,
      "outputs": []
    },
    {
      "cell_type": "markdown",
      "source": [
        "### Instalando biblioteca Py6s\n",
        "[PY6s](https://py6s.readthedocs.io/en/latest/installation.html)"
      ],
      "metadata": {
        "id": "M6bns5NWzG9B"
      }
    },
    {
      "cell_type": "code",
      "source": [
        "!conda install -c conda-forge Py6S -y"
      ],
      "metadata": {
        "id": "NQmDYlBizFrH"
      },
      "execution_count": null,
      "outputs": []
    },
    {
      "cell_type": "markdown",
      "source": [
        "### Instalando biblioteca spectral\n",
        "[SPECTRAL](https://github.com/stoplightio/spectral)"
      ],
      "metadata": {
        "id": "bX67anW9zLFs"
      }
    },
    {
      "cell_type": "code",
      "source": [
        "!pip install spectral"
      ],
      "metadata": {
        "id": "JYNQL9RfzNxh"
      },
      "execution_count": null,
      "outputs": []
    },
    {
      "cell_type": "markdown",
      "source": [
        "## **Inciando o processamento**"
      ],
      "metadata": {
        "id": "64fMZK03_EXx"
      }
    },
    {
      "cell_type": "code",
      "source": [
        "from spectral import imshow\n",
        "import matplotlib.pyplot as plt\n",
        "import numpy as np\n",
        "import tifffile as tif\n",
        "from Py6S import *\n",
        "import math"
      ],
      "metadata": {
        "id": "I2g3Le_L_bo0"
      },
      "execution_count": null,
      "outputs": []
    },
    {
      "cell_type": "markdown",
      "source": [
        "### Tefinindo parâmetros"
      ],
      "metadata": {
        "id": "KP8Rbv0F_vm4"
      }
    },
    {
      "cell_type": "code",
      "source": [
        "# Definindo o ângulo zenital solar\n",
        "solar_z = 90 - 40.82290583\n",
        "\n",
        "# Definindo a altitude\n",
        "alt = 1.1\n",
        "\n",
        "# Criando uma instância do objeto SixS\n",
        "s = SixS()\n",
        "\n",
        "# Configurando os componentes atmosféricos\n",
        "s.atmos_profile = AtmosProfile.FromLatitudeAndDate(15, '2001-07-20')  # Perfil atmosférico baseado na latitude e data\n",
        "s.aero_profile = AeroProfile.Continental  # Perfil de aerossóis utilizado (perfil \"Continental\")\n",
        "\n",
        "# Configurando a geometria Terra-Sol-satélite\n",
        "s.geometry = Geometry.User()\n",
        "s.geometry.view_z = 0  # Ângulo de visada (sempre NADIR)\n",
        "s.geometry.solar_z = solar_z  # Ângulo zenital solar\n",
        "s.geometry.month = 7  # Mês utilizado para o cálculo da distância Terra-Sol\n",
        "s.geometry.day = 20  # Dia utilizado para o cálculo da distância Terra-Sol\n",
        "\n",
        "# Configurando as altitudes\n",
        "s.altitudes.set_sensor_satellite_level()  # Altitude do sensor do satélite\n",
        "s.altitudes.set_target_custom_altitude(alt)  # Altitude do alvo personalizada"
      ],
      "metadata": {
        "id": "TEZo1IaN_ehx"
      },
      "execution_count": null,
      "outputs": []
    },
    {
      "cell_type": "markdown",
      "source": [
        "### Criando função de ganho"
      ],
      "metadata": {
        "id": "ZVJR9qFl_ymW"
      }
    },
    {
      "cell_type": "code",
      "source": [
        "def fun_ganho(bandname):\n",
        "    # Dicionário de seleção das bandas e seus comprimentos de onda correspondentes\n",
        "    bandSelect = {\n",
        "        'B1': PredefinedWavelengths.LANDSAT_ETM_B1,\n",
        "        'B2': PredefinedWavelengths.LANDSAT_ETM_B2,\n",
        "        'B3': PredefinedWavelengths.LANDSAT_ETM_B3,\n",
        "        'B4': PredefinedWavelengths.LANDSAT_ETM_B4,\n",
        "        'B5': PredefinedWavelengths.LANDSAT_ETM_B5,\n",
        "        'B7': PredefinedWavelengths.LANDSAT_ETM_B7,\n",
        "    }\n",
        "\n",
        "    # Retornando o comprimento de onda correspondente à banda especificada\n",
        "    return Wavelength(bandSelect[bandname])"
      ],
      "metadata": {
        "id": "DokZwv72_f8Y"
      },
      "execution_count": null,
      "outputs": []
    },
    {
      "cell_type": "code",
      "source": [
        "s.outputs.tran"
      ],
      "metadata": {
        "id": "MHgyHtNA_3Et"
      },
      "execution_count": null,
      "outputs": []
    },
    {
      "cell_type": "code",
      "source": [
        "def radiancia(bandname, img):\n",
        "    # Coeficientes ESUN para Landsat 7\n",
        "    ESUN_L7 = [1970, 1842, 1547, 1044, 225.7, 82.06]\n",
        "\n",
        "    # Mapeamento das bandas para os coeficientes ESUN correspondentes\n",
        "    ESUN_BAND = {\n",
        "        'B1': ESUN_L7[0],\n",
        "        'B2': ESUN_L7[1],\n",
        "        'B3': ESUN_L7[2],\n",
        "        'B4': ESUN_L7[3],\n",
        "        'B5': ESUN_L7[4],\n",
        "        'B7': ESUN_L7[5],\n",
        "    }\n",
        "\n",
        "    # Cálculo do fator de correção angular solar\n",
        "    solar_angle_correction = math.cos(solar_z) ** 2\n",
        "\n",
        "    # Cálculo do multiplicador para converter radiância para irradiância\n",
        "    multiplier = ESUN_BAND[bandname] * solar_angle_correction / (math.pi * 1.0161264 ** 2)\n",
        "\n",
        "    # Radiância no sensor\n",
        "    rad = img * multiplier\n",
        "\n",
        "    # Configurando o comprimento de onda do SixS para a banda atual\n",
        "    s.wavelength = fun_ganho(bandname)\n",
        "\n",
        "    # Executando o modelo SixS\n",
        "    s.run()\n",
        "\n",
        "    # Extraindo as saídas do SixS\n",
        "    Edir = s.outputs.direct_solar_irradiance  # Irradiância solar direta\n",
        "    Edif = s.outputs.diffuse_solar_irradiance  # Irradiância solar difusa\n",
        "    Lp = s.outputs.atmospheric_intrinsic_radiance  # Radiância de caminho\n",
        "    absorb = s.outputs.trans['global_gas'].upward  # Transmitância de absorção\n",
        "    scatter = s.outputs.trans['total_scattering'].upward  # Transmitância de espalhamento\n",
        "    tau2 = absorb * scatter  # Transmitância total\n",
        "\n",
        "    # Conversão da radiância para reflectância de superfície\n",
        "    ref = ((rad - Lp) * math.pi) / (tau2 * (Edir + Edif))\n",
        "\n",
        "    return ref"
      ],
      "metadata": {
        "id": "sKHmdng5__he"
      },
      "execution_count": null,
      "outputs": []
    },
    {
      "cell_type": "code",
      "source": [
        "# Transmitância de espalhamento total\n",
        "s.outputs.trans['total_scattering'].upward"
      ],
      "metadata": {
        "id": "lKqXNmTHAEZF"
      },
      "execution_count": null,
      "outputs": []
    },
    {
      "cell_type": "code",
      "source": [
        "# Transmitância de gás global\n",
        "s.outputs.trans['global_gas'].upward"
      ],
      "metadata": {
        "id": "LLUvU8k_AEbo"
      },
      "execution_count": null,
      "outputs": []
    },
    {
      "cell_type": "code",
      "source": [
        "# Irradiância solar direta\n",
        "s.outputs.direct_solar_irradiance"
      ],
      "metadata": {
        "id": "LUAyubQVAEeh"
      },
      "execution_count": null,
      "outputs": []
    },
    {
      "cell_type": "code",
      "source": [
        "# Irradiância solar difusa\n",
        "s.outputs.diffuse_solar_irradiance"
      ],
      "metadata": {
        "id": "PuFqHYhGAEhU"
      },
      "execution_count": null,
      "outputs": []
    },
    {
      "cell_type": "markdown",
      "source": [
        "### Importando Imagens"
      ],
      "metadata": {
        "id": "7W6-fX-ZAIki"
      }
    },
    {
      "cell_type": "code",
      "source": [
        "#from google.colab import drive\n",
        "#drive.mount()"
      ],
      "metadata": {
        "id": "UYrTzHUgA90a"
      },
      "execution_count": null,
      "outputs": []
    },
    {
      "cell_type": "code",
      "source": [
        "L7 = tif.imread('/content/drive/MyDrive/pdi_python/21 - PDI com Python/01 - Pré-Processamento/L71221071_07120010720_DN.tif')"
      ],
      "metadata": {
        "id": "lTkonaW-AIHT"
      },
      "execution_count": null,
      "outputs": []
    },
    {
      "cell_type": "code",
      "source": [
        "# Criando a lista de bandas\n",
        "lista_bandas = ['B1','B2','B3','B4','B5','B7']"
      ],
      "metadata": {
        "id": "_bhgL_gyAaHv"
      },
      "execution_count": null,
      "outputs": []
    },
    {
      "cell_type": "code",
      "source": [
        "# Criando um array vazio com a mesma forma (shape) da imagem L7\n",
        "f = np.zeros_like(L7)\n",
        "\n",
        "# Iterando sobre as bandas da imagem L7\n",
        "for i in range(L7.shape[2]):\n",
        "    # Chamando a função radiancia para calcular a reflectância de superfície para a banda atual\n",
        "    f[:, :, i] = radiancia(l[i], L7[:, :, i])\n"
      ],
      "metadata": {
        "id": "I3Ih_0G6ApY9"
      },
      "execution_count": null,
      "outputs": []
    },
    {
      "cell_type": "code",
      "source": [
        "imshow(f,(2,3,1),figsize=(12,8))"
      ],
      "metadata": {
        "id": "88E_wJX2AaKQ"
      },
      "execution_count": null,
      "outputs": []
    },
    {
      "cell_type": "code",
      "source": [
        "imshow(f[:,:,4],figsize=(12,8))"
      ],
      "metadata": {
        "id": "EZNRZeEJAiM7"
      },
      "execution_count": null,
      "outputs": []
    },
    {
      "cell_type": "code",
      "source": [
        "# Criação do histograma para a banda de reflectância de superfície (f)\n",
        "plt.hist(f[:, :, 0].flatten(), bins=50)\n",
        "\n",
        "# Criação do histograma para a banda original da imagem Landsat (L7)\n",
        "plt.hist(L7[:, :, 0].flatten(), bins=50)\n",
        "\n",
        "# Exibição dos histogramas\n",
        "plt.show()"
      ],
      "metadata": {
        "id": "dURHHwIkAiPi"
      },
      "execution_count": null,
      "outputs": []
    },
    {
      "cell_type": "code",
      "source": [],
      "metadata": {
        "id": "pXuHlM8vAiST"
      },
      "execution_count": null,
      "outputs": []
    }
  ]
}